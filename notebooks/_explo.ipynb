{
 "cells": [
  {
   "cell_type": "code",
   "execution_count": 1,
   "id": "a545b799-283f-4f3b-a49a-e331967d7244",
   "metadata": {},
   "outputs": [],
   "source": [
    "%load_ext autoreload\n",
    "%autoreload 2"
   ]
  },
  {
   "cell_type": "code",
   "execution_count": 10,
   "id": "090cb51d-64a1-4706-8c2a-d220a062da29",
   "metadata": {},
   "outputs": [],
   "source": [
    "import logging\n",
    "logging.basicConfig(level=logging.INFO, format=' %(asctime)s - %(levelname)s - %(message)s')\n",
    "\n",
    "import levy_stable_jax as lsj\n",
    "import levy_stable_jax.estimation\n",
    "import jax.numpy as jnp\n",
    "import seaborn as sns\n",
    "import pandas as pd\n",
    "import numpy as np\n",
    "from scipy.stats import levy_stable as sp_levy_stable\n",
    "from scipy.stats import lognorm as sp_lognorm\n",
    "import jax\n",
    "\n",
    "sp_levy_stable.parameterization = \"S0\"\n"
   ]
  },
  {
   "cell_type": "code",
   "execution_count": 3,
   "id": "f0958295-7590-4a95-9551-626cb7446ba8",
   "metadata": {},
   "outputs": [],
   "source": [
    "# (alpha, beta) = (1.5944529757446195, 0.9140602576756717)\n",
    "# (alpha, beta) = (1.9999989999999999, 0.9999890000100001)\n",
    "# (alpha, beta) = (1.2, -0.9999) #9999890000100001)\n",
    "(alpha, beta) = (1.2, 0.9)\n",
    "# alpha = 1.9193154521329552\n",
    "# beta = 0.8991364476436018\n",
    "loc, scale = 1.0, 2.0"
   ]
  },
  {
   "cell_type": "code",
   "execution_count": 4,
   "id": "41e7241e-8489-49dc-8612-597e40604a52",
   "metadata": {},
   "outputs": [
    {
     "name": "stderr",
     "output_type": "stream",
     "text": [
      " 2024-05-18 21:08:42,630 - INFO - Unable to initialize backend 'cuda': \n",
      " 2024-05-18 21:08:42,635 - INFO - Unable to initialize backend 'rocm': module 'jaxlib.xla_extension' has no attribute 'GpuAllocatorConfig'\n",
      " 2024-05-18 21:08:42,664 - INFO - Unable to initialize backend 'tpu': INTERNAL: Failed to open libtpu.so: libtpu.so: cannot open shared object file: No such file or directory\n"
     ]
    },
    {
     "name": "stdout",
     "output_type": "stream",
     "text": [
      "interp_linear: nan in points_: False nan in grid: False inf in grid: True all lower: True >=0: True\n",
      "interp_linear [[ 77.61       8.77778   95.      ]\n",
      " [ 78.01202    8.77778   95.      ]\n",
      " [ 78.41404    8.77778   95.      ]\n",
      " [ 78.81606    8.77778   95.      ]\n",
      " [ 79.21809    8.77778   95.      ]\n",
      " [ 79.6201     8.77778   95.      ]\n",
      " [ 80.02212    8.77778   95.      ]\n",
      " [ 80.42414    8.77778   95.      ]\n",
      " [ 80.826164   8.77778   95.      ]\n",
      " [ 81.22819    8.77778   95.      ]\n",
      " [ 81.6302     8.77778   95.      ]\n",
      " [ 82.03222    8.77778   95.      ]\n",
      " [ 82.434235   8.77778   95.      ]\n",
      " [ 82.836266   8.77778   95.      ]\n",
      " [ 83.23829    8.77778   95.      ]\n",
      " [ 83.640305   8.77778   95.      ]\n",
      " [ 84.04232    8.77778   95.      ]\n",
      " [ 84.44434    8.77778   95.      ]\n",
      " [ 84.84637    8.77778   95.      ]\n",
      " [ 85.24838    8.77778   95.      ]\n",
      " [ 85.650406   8.77778   95.      ]\n",
      " [ 86.05242    8.77778   95.      ]\n",
      " [ 86.454445   8.77778   95.      ]\n",
      " [ 86.85647    8.77778   95.      ]\n",
      " [ 87.258484   8.77778   95.      ]\n",
      " [ 87.66051    8.77778   95.      ]\n",
      " [ 88.06252    8.77778   95.      ]\n",
      " [ 88.46455    8.77778   95.      ]\n",
      " [ 88.86657    8.77778   95.      ]\n",
      " [ 89.268585   8.77778   95.      ]\n",
      " [ 89.67061    8.77778   95.      ]\n",
      " [ 90.072624   8.77778   95.      ]\n",
      " [ 90.47465    8.77778   95.      ]\n",
      " [ 90.87667    8.77778   95.      ]\n",
      " [ 91.27869    8.77778   95.      ]\n",
      " [ 91.6807     8.77778   95.      ]\n",
      " [ 92.082726   8.77778   95.      ]\n",
      " [ 92.48475    8.77778   95.      ]\n",
      " [ 92.886765   8.77778   95.      ]\n",
      " [ 93.28879    8.77778   95.      ]\n",
      " [ 93.6908     8.77778   95.      ]\n",
      " [ 94.092834   8.77778   95.      ]\n",
      " [ 94.49485    8.77778   95.      ]\n",
      " [ 94.89687    8.77778   95.      ]\n",
      " [ 95.29889    8.77778   95.      ]\n",
      " [ 95.700905   8.77778   95.      ]\n",
      " [ 96.102936   8.77778   95.      ]\n",
      " [ 96.50495    8.77778   95.      ]\n",
      " [ 96.90697    8.77778   95.      ]\n",
      " [ 97.30899    8.77778   95.      ]\n",
      " [ 97.711006   8.77778   95.      ]\n",
      " [ 98.11304    8.77778   95.      ]\n",
      " [ 98.51505    8.77778   95.      ]\n",
      " [ 98.91707    8.77778   95.      ]\n",
      " [ 99.31909    8.77778   95.      ]\n",
      " [ 99.72111    8.77778   95.      ]\n",
      " [100.12314    8.77778   95.      ]\n",
      " [100.525154   8.77778   95.      ]\n",
      " [100.92717    8.77778   95.      ]\n",
      " [101.32919    8.77778   95.      ]\n",
      " [101.73121    8.77778   95.      ]\n",
      " [102.13323    8.77778   95.      ]\n",
      " [102.535255   8.77778   95.      ]\n",
      " [102.93727    8.77778   95.      ]\n",
      " [103.33929    8.77778   95.      ]\n",
      " [103.74132    8.77778   95.      ]\n",
      " [104.14333    8.77778   95.      ]\n",
      " [104.54536    8.77778   95.      ]\n",
      " [104.94737    8.77778   95.      ]\n",
      " [105.34939    8.77778   95.      ]\n",
      " [105.75142    8.77778   95.      ]\n",
      " [106.153435   8.77778   95.      ]\n",
      " [106.55546    8.77778   95.      ]\n",
      " [106.95747    8.77778   95.      ]\n",
      " [107.35949    8.77778   95.      ]\n",
      " [107.76152    8.77778   95.      ]\n",
      " [108.163536   8.77778   95.      ]\n",
      " [108.56556    8.77778   95.      ]\n",
      " [108.967575   8.77778   95.      ]\n",
      " [109.36959    8.77778   95.      ]\n",
      " [109.77162    8.77778   95.      ]\n",
      " [110.17364    8.77778   95.      ]\n",
      " [110.57566    8.77778   95.      ]\n",
      " [110.97768    8.77778   95.      ]\n",
      " [111.37969    8.77778   95.      ]\n",
      " [111.78172    8.77778   95.      ]\n",
      " [112.18374    8.77778   95.      ]\n",
      " [112.58576    8.77778   95.      ]\n",
      " [112.98778    8.77778   95.      ]\n",
      " [113.3898     8.77778   95.      ]\n",
      " [113.79182    8.77778   95.      ]\n",
      " [114.19384    8.77778   95.      ]\n",
      " [114.595856   8.77778   95.      ]\n",
      " [114.99788    8.77778   95.      ]\n",
      " [115.3999     8.77778   95.      ]\n",
      " [115.80192    8.77778   95.      ]\n",
      " [116.20394    8.77778   95.      ]\n",
      " [116.60596    8.77778   95.      ]\n",
      " [117.00798    8.77778   95.      ]\n",
      " [117.41       8.77778   95.      ]]\n"
     ]
    },
    {
     "data": {
      "text/plain": [
       "<Axes: >"
      ]
     },
     "execution_count": 4,
     "metadata": {},
     "output_type": "execute_result"
    },
    {
     "data": {
      "image/png": "[encoded data removed]",
      "text/plain": [
       "<Figure size 640x480 with 1 Axes>"
      ]
     },
     "metadata": {},
     "output_type": "display_data"
    }
   ],
   "source": [
    "xs = jnp.linspace(-10, 10, 100)\n",
    "sns.lineplot(x=xs,\n",
    "             y=lsj.logpdf(xs, alpha,beta,loc, scale, \"N0\")-sp_levy_stable.logpdf(xs,alpha=alpha, beta=beta))\n",
    "# sns.lineplot(x=xs,\n",
    "#              y=sp_levy_stable.logpdf(xs,alpha=alpha, beta=beta))"
   ]
  },
  {
   "cell_type": "code",
   "execution_count": 5,
   "id": "4f7a0ee6-2813-4a89-be4e-ecc71ab8c173",
   "metadata": {},
   "outputs": [
    {
     "name": "stdout",
     "output_type": "stream",
     "text": [
      "interp_linear: nan in points_: False nan in grid: False inf in grid: True all lower: True >=0: True\n",
      "interp_linear [[ 77.61       8.77778   95.      ]\n",
      " [ 78.01202    8.77778   95.      ]\n",
      " [ 78.41404    8.77778   95.      ]\n",
      " [ 78.81606    8.77778   95.      ]\n",
      " [ 79.21809    8.77778   95.      ]\n",
      " [ 79.6201     8.77778   95.      ]\n",
      " [ 80.02212    8.77778   95.      ]\n",
      " [ 80.42414    8.77778   95.      ]\n",
      " [ 80.826164   8.77778   95.      ]\n",
      " [ 81.22819    8.77778   95.      ]\n",
      " [ 81.6302     8.77778   95.      ]\n",
      " [ 82.03222    8.77778   95.      ]\n",
      " [ 82.434235   8.77778   95.      ]\n",
      " [ 82.836266   8.77778   95.      ]\n",
      " [ 83.23829    8.77778   95.      ]\n",
      " [ 83.640305   8.77778   95.      ]\n",
      " [ 84.04232    8.77778   95.      ]\n",
      " [ 84.44434    8.77778   95.      ]\n",
      " [ 84.84637    8.77778   95.      ]\n",
      " [ 85.24838    8.77778   95.      ]\n",
      " [ 85.650406   8.77778   95.      ]\n",
      " [ 86.05242    8.77778   95.      ]\n",
      " [ 86.454445   8.77778   95.      ]\n",
      " [ 86.85647    8.77778   95.      ]\n",
      " [ 87.258484   8.77778   95.      ]\n",
      " [ 87.66051    8.77778   95.      ]\n",
      " [ 88.06252    8.77778   95.      ]\n",
      " [ 88.46455    8.77778   95.      ]\n",
      " [ 88.86657    8.77778   95.      ]\n",
      " [ 89.268585   8.77778   95.      ]\n",
      " [ 89.67061    8.77778   95.      ]\n",
      " [ 90.072624   8.77778   95.      ]\n",
      " [ 90.47465    8.77778   95.      ]\n",
      " [ 90.87667    8.77778   95.      ]\n",
      " [ 91.27869    8.77778   95.      ]\n",
      " [ 91.6807     8.77778   95.      ]\n",
      " [ 92.082726   8.77778   95.      ]\n",
      " [ 92.48475    8.77778   95.      ]\n",
      " [ 92.886765   8.77778   95.      ]\n",
      " [ 93.28879    8.77778   95.      ]\n",
      " [ 93.6908     8.77778   95.      ]\n",
      " [ 94.092834   8.77778   95.      ]\n",
      " [ 94.49485    8.77778   95.      ]\n",
      " [ 94.89687    8.77778   95.      ]\n",
      " [ 95.29889    8.77778   95.      ]\n",
      " [ 95.700905   8.77778   95.      ]\n",
      " [ 96.102936   8.77778   95.      ]\n",
      " [ 96.50495    8.77778   95.      ]\n",
      " [ 96.90697    8.77778   95.      ]\n",
      " [ 97.30899    8.77778   95.      ]\n",
      " [ 97.711006   8.77778   95.      ]\n",
      " [ 98.11304    8.77778   95.      ]\n",
      " [ 98.51505    8.77778   95.      ]\n",
      " [ 98.91707    8.77778   95.      ]\n",
      " [ 99.31909    8.77778   95.      ]\n",
      " [ 99.72111    8.77778   95.      ]\n",
      " [100.12314    8.77778   95.      ]\n",
      " [100.525154   8.77778   95.      ]\n",
      " [100.92717    8.77778   95.      ]\n",
      " [101.32919    8.77778   95.      ]\n",
      " [101.73121    8.77778   95.      ]\n",
      " [102.13323    8.77778   95.      ]\n",
      " [102.535255   8.77778   95.      ]\n",
      " [102.93727    8.77778   95.      ]\n",
      " [103.33929    8.77778   95.      ]\n",
      " [103.74132    8.77778   95.      ]\n",
      " [104.14333    8.77778   95.      ]\n",
      " [104.54536    8.77778   95.      ]\n",
      " [104.94737    8.77778   95.      ]\n",
      " [105.34939    8.77778   95.      ]\n",
      " [105.75142    8.77778   95.      ]\n",
      " [106.153435   8.77778   95.      ]\n",
      " [106.55546    8.77778   95.      ]\n",
      " [106.95747    8.77778   95.      ]\n",
      " [107.35949    8.77778   95.      ]\n",
      " [107.76152    8.77778   95.      ]\n",
      " [108.163536   8.77778   95.      ]\n",
      " [108.56556    8.77778   95.      ]\n",
      " [108.967575   8.77778   95.      ]\n",
      " [109.36959    8.77778   95.      ]\n",
      " [109.77162    8.77778   95.      ]\n",
      " [110.17364    8.77778   95.      ]\n",
      " [110.57566    8.77778   95.      ]\n",
      " [110.97768    8.77778   95.      ]\n",
      " [111.37969    8.77778   95.      ]\n",
      " [111.78172    8.77778   95.      ]\n",
      " [112.18374    8.77778   95.      ]\n",
      " [112.58576    8.77778   95.      ]\n",
      " [112.98778    8.77778   95.      ]\n",
      " [113.3898     8.77778   95.      ]\n",
      " [113.79182    8.77778   95.      ]\n",
      " [114.19384    8.77778   95.      ]\n",
      " [114.595856   8.77778   95.      ]\n",
      " [114.99788    8.77778   95.      ]\n",
      " [115.3999     8.77778   95.      ]\n",
      " [115.80192    8.77778   95.      ]\n",
      " [116.20394    8.77778   95.      ]\n",
      " [116.60596    8.77778   95.      ]\n",
      " [117.00798    8.77778   95.      ]\n",
      " [117.41       8.77778   95.      ]]\n"
     ]
    },
    {
     "data": {
      "text/plain": [
       "<Axes: >"
      ]
     },
     "execution_count": 5,
     "metadata": {},
     "output_type": "execute_result"
    },
    {
     "data": {
      "image/png": "[encoded data removed]",
      "text/plain": [
       "<Figure size 640x480 with 1 Axes>"
      ]
     },
     "metadata": {},
     "output_type": "display_data"
    }
   ],
   "source": [
    "xs = jnp.linspace(-10, 10, 100)\n",
    "sns.lineplot(x=xs,\n",
    "             y=lsj.logpdf(xs, alpha,beta,loc=loc,scale=scale))\n",
    "sns.lineplot(x=xs,\n",
    "             y=sp_levy_stable.logpdf(xs,alpha=alpha, beta=beta,loc=loc,scale=scale))"
   ]
  },
  {
   "cell_type": "markdown",
   "id": "ded578b7-036f-4ccc-8644-a9a4344be8de",
   "metadata": {},
   "source": [
    "# Check CDF"
   ]
  },
  {
   "cell_type": "code",
   "execution_count": 6,
   "id": "0d303650-8d9c-44f5-a465-48cddb4f2377",
   "metadata": {},
   "outputs": [
    {
     "name": "stdout",
     "output_type": "stream",
     "text": [
      "interp_linear: nan in points_: False nan in grid: False inf in grid: True all lower: True >=0: True\n",
      "interp_linear [[ 77.61       8.77778   95.      ]\n",
      " [ 78.01202    8.77778   95.      ]\n",
      " [ 78.41404    8.77778   95.      ]\n",
      " [ 78.81606    8.77778   95.      ]\n",
      " [ 79.21809    8.77778   95.      ]\n",
      " [ 79.6201     8.77778   95.      ]\n",
      " [ 80.02212    8.77778   95.      ]\n",
      " [ 80.42414    8.77778   95.      ]\n",
      " [ 80.826164   8.77778   95.      ]\n",
      " [ 81.22819    8.77778   95.      ]\n",
      " [ 81.6302     8.77778   95.      ]\n",
      " [ 82.03222    8.77778   95.      ]\n",
      " [ 82.434235   8.77778   95.      ]\n",
      " [ 82.836266   8.77778   95.      ]\n",
      " [ 83.23829    8.77778   95.      ]\n",
      " [ 83.640305   8.77778   95.      ]\n",
      " [ 84.04232    8.77778   95.      ]\n",
      " [ 84.44434    8.77778   95.      ]\n",
      " [ 84.84637    8.77778   95.      ]\n",
      " [ 85.24838    8.77778   95.      ]\n",
      " [ 85.650406   8.77778   95.      ]\n",
      " [ 86.05242    8.77778   95.      ]\n",
      " [ 86.454445   8.77778   95.      ]\n",
      " [ 86.85647    8.77778   95.      ]\n",
      " [ 87.258484   8.77778   95.      ]\n",
      " [ 87.66051    8.77778   95.      ]\n",
      " [ 88.06252    8.77778   95.      ]\n",
      " [ 88.46455    8.77778   95.      ]\n",
      " [ 88.86657    8.77778   95.      ]\n",
      " [ 89.268585   8.77778   95.      ]\n",
      " [ 89.67061    8.77778   95.      ]\n",
      " [ 90.072624   8.77778   95.      ]\n",
      " [ 90.47465    8.77778   95.      ]\n",
      " [ 90.87667    8.77778   95.      ]\n",
      " [ 91.27869    8.77778   95.      ]\n",
      " [ 91.6807     8.77778   95.      ]\n",
      " [ 92.082726   8.77778   95.      ]\n",
      " [ 92.48475    8.77778   95.      ]\n",
      " [ 92.886765   8.77778   95.      ]\n",
      " [ 93.28879    8.77778   95.      ]\n",
      " [ 93.6908     8.77778   95.      ]\n",
      " [ 94.092834   8.77778   95.      ]\n",
      " [ 94.49485    8.77778   95.      ]\n",
      " [ 94.89687    8.77778   95.      ]\n",
      " [ 95.29889    8.77778   95.      ]\n",
      " [ 95.700905   8.77778   95.      ]\n",
      " [ 96.102936   8.77778   95.      ]\n",
      " [ 96.50495    8.77778   95.      ]\n",
      " [ 96.90697    8.77778   95.      ]\n",
      " [ 97.30899    8.77778   95.      ]\n",
      " [ 97.711006   8.77778   95.      ]\n",
      " [ 98.11304    8.77778   95.      ]\n",
      " [ 98.51505    8.77778   95.      ]\n",
      " [ 98.91707    8.77778   95.      ]\n",
      " [ 99.31909    8.77778   95.      ]\n",
      " [ 99.72111    8.77778   95.      ]\n",
      " [100.12314    8.77778   95.      ]\n",
      " [100.525154   8.77778   95.      ]\n",
      " [100.92717    8.77778   95.      ]\n",
      " [101.32919    8.77778   95.      ]\n",
      " [101.73121    8.77778   95.      ]\n",
      " [102.13323    8.77778   95.      ]\n",
      " [102.535255   8.77778   95.      ]\n",
      " [102.93727    8.77778   95.      ]\n",
      " [103.33929    8.77778   95.      ]\n",
      " [103.74132    8.77778   95.      ]\n",
      " [104.14333    8.77778   95.      ]\n",
      " [104.54536    8.77778   95.      ]\n",
      " [104.94737    8.77778   95.      ]\n",
      " [105.34939    8.77778   95.      ]\n",
      " [105.75142    8.77778   95.      ]\n",
      " [106.153435   8.77778   95.      ]\n",
      " [106.55546    8.77778   95.      ]\n",
      " [106.95747    8.77778   95.      ]\n",
      " [107.35949    8.77778   95.      ]\n",
      " [107.76152    8.77778   95.      ]\n",
      " [108.163536   8.77778   95.      ]\n",
      " [108.56556    8.77778   95.      ]\n",
      " [108.967575   8.77778   95.      ]\n",
      " [109.36959    8.77778   95.      ]\n",
      " [109.77162    8.77778   95.      ]\n",
      " [110.17364    8.77778   95.      ]\n",
      " [110.57566    8.77778   95.      ]\n",
      " [110.97768    8.77778   95.      ]\n",
      " [111.37969    8.77778   95.      ]\n",
      " [111.78172    8.77778   95.      ]\n",
      " [112.18374    8.77778   95.      ]\n",
      " [112.58576    8.77778   95.      ]\n",
      " [112.98778    8.77778   95.      ]\n",
      " [113.3898     8.77778   95.      ]\n",
      " [113.79182    8.77778   95.      ]\n",
      " [114.19384    8.77778   95.      ]\n",
      " [114.595856   8.77778   95.      ]\n",
      " [114.99788    8.77778   95.      ]\n",
      " [115.3999     8.77778   95.      ]\n",
      " [115.80192    8.77778   95.      ]\n",
      " [116.20394    8.77778   95.      ]\n",
      " [116.60596    8.77778   95.      ]\n",
      " [117.00798    8.77778   95.      ]\n",
      " [117.41       8.77778   95.      ]]\n"
     ]
    },
    {
     "data": {
      "text/plain": [
       "<Axes: >"
      ]
     },
     "execution_count": 6,
     "metadata": {},
     "output_type": "execute_result"
    },
    {
     "data": {
      "image/png": "[encoded data removed]",
      "text/plain": [
       "<Figure size 640x480 with 1 Axes>"
      ]
     },
     "metadata": {},
     "output_type": "display_data"
    }
   ],
   "source": [
    "ys1 = lsj.cdf(xs, alpha, beta, loc, scale, \"N0\")\n",
    "sns.lineplot(x=xs, y=ys1)\n",
    "sns.lineplot(x=xs, y=sp_levy_stable.cdf(xs, alpha=alpha,beta=beta,loc=loc, scale=scale))"
   ]
  },
  {
   "cell_type": "code",
   "execution_count": 7,
   "id": "6081f978-2b33-4988-b822-cf90a963f32e",
   "metadata": {},
   "outputs": [
    {
     "data": {
      "text/plain": [
       "<Axes: >"
      ]
     },
     "execution_count": 7,
     "metadata": {},
     "output_type": "execute_result"
    },
    {
     "data": {
      "image/png": "[encoded data removed]",
      "text/plain": [
       "<Figure size 640x480 with 1 Axes>"
      ]
     },
     "metadata": {},
     "output_type": "display_data"
    }
   ],
   "source": [
    "sns.lineplot(x=xs, y=ys1-sp_levy_stable.cdf(xs, alpha=alpha,beta=beta,loc=loc, scale=scale))"
   ]
  },
  {
   "cell_type": "markdown",
   "id": "caade552-1ff5-4196-81df-bba5eb2583e8",
   "metadata": {},
   "source": [
    "# Test fitting"
   ]
  },
  {
   "cell_type": "code",
   "execution_count": 11,
   "id": "c9161403-b27b-42bc-8775-aa0ff0e3a6ce",
   "metadata": {},
   "outputs": [],
   "source": [
    "from scipy.stats import lognorm as sp_lognorm"
   ]
  },
  {
   "cell_type": "code",
   "execution_count": 96,
   "id": "f3dc9ad8-6676-46eb-be7a-653cf35a9796",
   "metadata": {},
   "outputs": [
    {
     "name": "stdout",
     "output_type": "stream",
     "text": [
      "interp_linear: nan in points_: False nan in grid: False inf in grid: True all lower: True >=0: True\n",
      "interp_linear [[ 86.204956  70.527565 100.      ]\n",
      " [ 86.730515  70.527565 100.      ]\n",
      " [ 87.25607   70.527565 100.      ]\n",
      " [ 87.781624  70.527565 100.      ]\n",
      " [ 88.30718   70.527565 100.      ]\n",
      " [ 88.83274   70.527565 100.      ]\n",
      " [ 89.3583    70.527565 100.      ]\n",
      " [ 89.88386   70.527565 100.      ]\n",
      " [ 90.40942   70.527565 100.      ]\n",
      " [ 90.93497   70.527565 100.      ]\n",
      " [ 91.460526  70.527565 100.      ]\n",
      " [ 91.986084  70.527565 100.      ]\n",
      " [ 92.51164   70.527565 100.      ]\n",
      " [ 93.03721   70.527565 100.      ]\n",
      " [ 93.56276   70.527565 100.      ]\n",
      " [ 94.08831   70.527565 100.      ]\n",
      " [ 94.61388   70.527565 100.      ]\n",
      " [ 95.139435  70.527565 100.      ]\n",
      " [ 95.66499   70.527565 100.      ]\n",
      " [ 96.19055   70.527565 100.      ]\n",
      " [ 96.71611   70.527565 100.      ]\n",
      " [ 97.24167   70.527565 100.      ]\n",
      " [ 97.76722   70.527565 100.      ]\n",
      " [ 98.29278   70.527565 100.      ]\n",
      " [ 98.81834   70.527565 100.      ]\n",
      " [ 99.343895  70.527565 100.      ]\n",
      " [ 99.86945   70.527565 100.      ]\n",
      " [100.39501   70.527565 100.      ]\n",
      " [100.92056   70.527565 100.      ]\n",
      " [101.44612   70.527565 100.      ]\n",
      " [101.97168   70.527565 100.      ]\n",
      " [102.49724   70.527565 100.      ]\n",
      " [103.0228    70.527565 100.      ]\n",
      " [103.548355  70.527565 100.      ]\n",
      " [104.073906  70.527565 100.      ]\n",
      " [104.599464  70.527565 100.      ]\n",
      " [105.12502   70.527565 100.      ]\n",
      " [105.65058   70.527565 100.      ]\n",
      " [106.17614   70.527565 100.      ]\n",
      " [106.7017    70.527565 100.      ]\n",
      " [107.22725   70.527565 100.      ]\n",
      " [107.75281   70.527565 100.      ]\n",
      " [108.278366  70.527565 100.      ]\n",
      " [108.803925  70.527565 100.      ]\n",
      " [109.32948   70.527565 100.      ]\n",
      " [109.85504   70.527565 100.      ]\n",
      " [110.3806    70.527565 100.      ]\n",
      " [110.90615   70.527565 100.      ]\n",
      " [111.43171   70.527565 100.      ]\n",
      " [111.95727   70.527565 100.      ]\n",
      " [112.48283   70.527565 100.      ]\n",
      " [113.008385  70.527565 100.      ]\n",
      " [113.53394   70.527565 100.      ]\n",
      " [114.059494  70.527565 100.      ]\n",
      " [114.58505   70.527565 100.      ]\n",
      " [115.11061   70.527565 100.      ]\n",
      " [115.63617   70.527565 100.      ]\n",
      " [116.16173   70.527565 100.      ]\n",
      " [116.68729   70.527565 100.      ]\n",
      " [117.21284   70.527565 100.      ]\n",
      " [117.738396  70.527565 100.      ]\n",
      " [118.263954  70.527565 100.      ]\n",
      " [118.78951   70.527565 100.      ]\n",
      " [119.31507   70.527565 100.      ]\n",
      " [119.84063   70.527565 100.      ]\n",
      " [120.36619   70.527565 100.      ]\n",
      " [120.89174   70.527565 100.      ]\n",
      " [121.4173    70.527565 100.      ]\n",
      " [121.942856  70.527565 100.      ]\n",
      " [122.468414  70.527565 100.      ]\n",
      " [122.99398   70.527565 100.      ]\n",
      " [123.51954   70.527565 100.      ]\n",
      " [124.04508   70.527565 100.      ]\n",
      " [124.57064   70.527565 100.      ]\n",
      " [125.0962    70.527565 100.      ]\n",
      " [125.621765  70.527565 100.      ]\n",
      " [126.14732   70.527565 100.      ]\n",
      " [126.67288   70.527565 100.      ]\n",
      " [127.198425  70.527565 100.      ]\n",
      " [127.72398   70.527565 100.      ]\n",
      " [128.24954   70.527565 100.      ]\n",
      " [128.7751    70.527565 100.      ]\n",
      " [129.30066   70.527565 100.      ]\n",
      " [129.82622   70.527565 100.      ]\n",
      " [130.35178   70.527565 100.      ]\n",
      " [130.87733   70.527565 100.      ]\n",
      " [131.4029    70.527565 100.      ]\n",
      " [131.92844   70.527565 100.      ]\n",
      " [132.454     70.527565 100.      ]\n",
      " [132.97955   70.527565 100.      ]\n",
      " [133.50511   70.527565 100.      ]\n",
      " [134.03067   70.527565 100.      ]\n",
      " [134.55623   70.527565 100.      ]\n",
      " [135.08179   70.527565 100.      ]\n",
      " [135.60735   70.527565 100.      ]\n",
      " [136.1329    70.527565 100.      ]\n",
      " [136.65848   70.527565 100.      ]\n",
      " [137.18402   70.527565 100.      ]\n",
      " [137.70958   70.527565 100.      ]\n",
      " [138.23514   70.527565 100.      ]]\n"
     ]
    },
    {
     "data": {
      "text/plain": [
       "<Axes: >"
      ]
     },
     "execution_count": 96,
     "metadata": {},
     "output_type": "execute_result"
    },
    {
     "data": {
      "image/png": "[encoded data removed]",
      "text/plain": [
       "<Figure size 640x480 with 1 Axes>"
      ]
     },
     "metadata": {},
     "output_type": "display_data"
    }
   ],
   "source": [
    "(s,scale_) = (0.3,10)\n",
    "ppf_thresh = 1e-5\n",
    "ll = sp_lognorm.ppf([0.05,0.25,0.5,0.75,0.95], scale=scale_, s=s)\n",
    "ll\n",
    "(x_low, x_high) = sp_lognorm.ppf([ppf_thresh, 1-ppf_thresh*10], scale=scale_, s=s)\n",
    "xs = np.linspace(x_low, x_high,100)\n",
    "(alpha, beta, loc, scale) = levy_stable_jax.estimation.fit_quantiles(None,param=\"N1\",percentiles=ll)\n",
    "sns.lineplot(\n",
    "    x=xs,\n",
    "    y=lsj.pdf(xs,alpha,beta,loc,scale,param=\"N1\"))\n",
    "sns.lineplot(\n",
    "    x=xs,\n",
    "    y=sp_lognorm.pdf(xs,scale=scale_,s=s))\n"
   ]
  },
  {
   "cell_type": "code",
   "execution_count": 97,
   "id": "8c802e0c-f22e-43b4-954d-23be4abb07d6",
   "metadata": {},
   "outputs": [
    {
     "data": {
      "text/plain": [
       "(Array(1.9034786, dtype=float32),\n",
       " Array(1., dtype=float32),\n",
       " Array(10.193095, dtype=float32),\n",
       " Array(2.1215882, dtype=float32))"
      ]
     },
     "execution_count": 97,
     "metadata": {},
     "output_type": "execute_result"
    }
   ],
   "source": [
    "alpha,beta,loc,scale"
   ]
  },
  {
   "cell_type": "code",
   "execution_count": 86,
   "id": "8327d472-eee8-40d6-a701-249d63f09c05",
   "metadata": {},
   "outputs": [
    {
     "data": {
      "text/plain": [
       "(array([ 1.93040817,  5.09416284, 10.        , 19.63031084, 51.80251602]),\n",
       " 0.14053401766126727,\n",
       " 711.5714875606429)"
      ]
     },
     "execution_count": 86,
     "metadata": {},
     "output_type": "execute_result"
    }
   ],
   "source": [
    "ll,x_low,x_high"
   ]
  },
  {
   "cell_type": "code",
   "execution_count": 7,
   "id": "895ce217-649d-48cd-b0b3-884d775aaf3e",
   "metadata": {},
   "outputs": [
    {
     "ename": "NameError",
     "evalue": "name 'levy_stable_jax' is not defined",
     "output_type": "error",
     "traceback": [
      "\u001b[0;31m---------------------------------------------------------------------------\u001b[0m",
      "\u001b[0;31mNameError\u001b[0m                                 Traceback (most recent call last)",
      "Cell \u001b[0;32mIn[7], line 1\u001b[0m\n\u001b[0;32m----> 1\u001b[0m lpdf \u001b[38;5;241m=\u001b[39m \u001b[43mlevy_stable_jax\u001b[49m\u001b[38;5;241m.\u001b[39m_cache\u001b[38;5;241m.\u001b[39mjax_read_from_cache(\u001b[38;5;124m\"\u001b[39m\u001b[38;5;124mlogpdf\u001b[39m\u001b[38;5;124m\"\u001b[39m)\n\u001b[1;32m      2\u001b[0m lpdf\u001b[38;5;241m.\u001b[39mshape\n",
      "\u001b[0;31mNameError\u001b[0m: name 'levy_stable_jax' is not defined"
     ]
    }
   ],
   "source": [
    "lpdf = levy_stable_jax._cache.jax_read_from_cache(\"logpdf\")\n",
    "lpdf.shape"
   ]
  },
  {
   "cell_type": "code",
   "execution_count": null,
   "id": "9cd5be87-d917-4a13-a2f5-1f23c972595b",
   "metadata": {},
   "outputs": [],
   "source": [
    "locs = jnp.asarray([1.0, 2.0])\n",
    "scales = jnp.asarray(1.0)\n",
    "A = jnp.asarray([[1,2],[3,4],[5,6]])\n",
    "b = jnp.asarray([[2,2,2]]).T\n",
    "\n",
    "A * locs + b"
   ]
  },
  {
   "cell_type": "code",
   "execution_count": null,
   "id": "0fc0abd7-0f27-41b6-8f97-7ad6a9b8063d",
   "metadata": {},
   "outputs": [],
   "source": [
    "locs = jnp.asarray([1.0, 1.1])\n",
    "scales = 2.0\n",
    "A = jnp.asarray([[1,2],[3,4],[5,6]])\n",
    "b = jnp.asarray([[2,2,2]]).T\n",
    "(beta1, loc1, scale1) = lsj.shift_scale(2.0, 0.0,locs, scales, A,b,\"N1\")\n",
    "(beta1, loc1, scale1)"
   ]
  },
  {
   "cell_type": "code",
   "execution_count": null,
   "id": "87603221-6231-4c9f-a651-a2c0869ac20d",
   "metadata": {},
   "outputs": [],
   "source": [
    "lsj.sum(2.0, beta1, loc1, scale1, param=\"N1\", axis=0)"
   ]
  },
  {
   "cell_type": "code",
   "execution_count": null,
   "id": "13d10dd5-26bd-453e-98b4-33d31511e27b",
   "metadata": {},
   "outputs": [],
   "source": [
    "raise"
   ]
  },
  {
   "cell_type": "code",
   "execution_count": null,
   "id": "f553ed6d-2136-408c-82c4-d9e9b58066fb",
   "metadata": {},
   "outputs": [],
   "source": [
    "from levy_stable_jax.distribution import TAB_X_CUTOFF, NUM_X_POINTS, ALPHA_MIN, ALPHA_MAX, NUM_ALPHA_POINTS, BETA_MIN, BETA_MAX, NUM_BETA_POINTS\n",
    "xs = np.linspace(-TAB_X_CUTOFF, TAB_X_CUTOFF, NUM_X_POINTS)\n",
    "alphas = np.linspace(ALPHA_MIN, ALPHA_MAX, NUM_ALPHA_POINTS)\n",
    "betas = np.linspace(BETA_MIN, BETA_MAX, NUM_BETA_POINTS)\n",
    "dx = 2 * TAB_X_CUTOFF / NUM_X_POINTS\n",
    "NUM_BETA_POINTS"
   ]
  },
  {
   "cell_type": "code",
   "execution_count": null,
   "id": "fe9b9845-c621-42e6-af83-ca1431b4a3e5",
   "metadata": {},
   "outputs": [],
   "source": [
    "alpha_idx = 40\n",
    "beta_idx = 43\n",
    "ys = np.array(lpdf[:,alpha_idx,beta_idx])\n",
    "alpha = alphas[alpha_idx]\n",
    "beta = betas[beta_idx]\n",
    "print(\"alpha\",alpha,\"beta\",beta)\n",
    "with levy_stable_jax._utils.set_stable(\"N0\"):\n",
    "    ys0 = sp_levy_stable.logpdf(xs, alpha=alpha, beta=beta)\n",
    "sns.lineplot(x=xs, y=ys0)\n",
    "sns.lineplot(x=xs, y=ys)\n"
   ]
  },
  {
   "cell_type": "code",
   "execution_count": null,
   "id": "85777b0f-49bd-41b5-b585-e377372285e7",
   "metadata": {},
   "outputs": [],
   "source": [
    "beta"
   ]
  },
  {
   "cell_type": "code",
   "execution_count": null,
   "id": "891869a6-b960-4069-8512-5088a149f6e2",
   "metadata": {},
   "outputs": [],
   "source": [
    "sns.scatterplot(x=xs, y=np.gradient(lpdf[:,alpha_idx,beta_idx]))"
   ]
  },
  {
   "cell_type": "code",
   "execution_count": null,
   "id": "040e0ddd-50c3-4b2c-9656-adb4f8ad9c86",
   "metadata": {},
   "outputs": [],
   "source": [
    "sns.scatterplot(x=xs, y=ys)"
   ]
  },
  {
   "cell_type": "markdown",
   "id": "6a517f31-e8b9-4212-ace6-d418b14ae476",
   "metadata": {},
   "source": [
    "# Check random parameters"
   ]
  },
  {
   "cell_type": "code",
   "execution_count": null,
   "id": "a47f222f-9bb5-49b4-b03a-52d163e9fa7d",
   "metadata": {},
   "outputs": [],
   "source": [
    "prng = jax.random.PRNGKey(1)\n",
    "ys = lsj.rvs(alpha=1.8, beta=-1.0,loc=10.0, scale=0.5,param=\"N1\",prng=prng,shape=(1000,))"
   ]
  },
  {
   "cell_type": "code",
   "execution_count": null,
   "id": "593f9fa6-e733-4432-87c5-aac32014d354",
   "metadata": {},
   "outputs": [],
   "source": [
    "sns.histplot(ys)"
   ]
  },
  {
   "cell_type": "code",
   "execution_count": null,
   "id": "a8a12829-215c-4bd4-b7ab-3b2a6b629771",
   "metadata": {},
   "outputs": [],
   "source": [
    "import levy_stable_jax.estimation"
   ]
  },
  {
   "cell_type": "code",
   "execution_count": null,
   "id": "e53b6893-9604-461f-9116-b693dcbdfd53",
   "metadata": {},
   "outputs": [],
   "source": [
    "lsj.estimation.fit_ll(ys, alpha=1.8, beta=None, param=\"N1\")"
   ]
  },
  {
   "cell_type": "code",
   "execution_count": null,
   "id": "3da832fa-d271-4a63-9194-8117d33a8016",
   "metadata": {},
   "outputs": [],
   "source": []
  }
 ],
 "metadata": {
  "kernelspec": {
   "display_name": "Python 3 (ipykernel)",
   "language": "python",
   "name": "python3"
  },
  "language_info": {
   "codemirror_mode": {
    "name": "ipython",
    "version": 3
   },
   "file_extension": ".py",
   "mimetype": "text/x-python",
   "name": "python",
   "nbconvert_exporter": "python",
   "pygments_lexer": "ipython3",
   "version": "3.11.9"
  }
 },
 "nbformat": 4,
 "nbformat_minor": 5
}
