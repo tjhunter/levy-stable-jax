{
 "cells": [
  {
   "cell_type": "code",
   "execution_count": 1,
   "id": "0c3af758-cc5b-4e2d-b735-ffd89b7faf50",
   "metadata": {},
   "outputs": [],
   "source": [
    "%load_ext autoreload\n",
    "%autoreload 2"
   ]
  },
  {
   "cell_type": "code",
   "execution_count": 2,
   "id": "efec5065-4525-4f5d-beb7-be7d87b1c6ee",
   "metadata": {},
   "outputs": [],
   "source": [
    "import logging\n",
    "logging.basicConfig(level=logging.INFO, format=' %(asctime)s - %(levelname)s - %(message)s')\n",
    "\n",
    "import seaborn as sns\n",
    "from scipy.stats import levy_stable as sp_levy_stable\n",
    "import numpy as np\n",
    "import levy_stable_jax.estimation\n",
    "import levy_stable_jax._utils\n",
    "np.random.seed(2)"
   ]
  },
  {
   "cell_type": "code",
   "execution_count": 4,
   "id": "bae9be79-0f0b-4f44-8855-0420778d2731",
   "metadata": {},
   "outputs": [],
   "source": [
    "alpha_true = 1.6\n",
    "beta_true = 0.7\n",
    "loc_true = 3.0\n",
    "scale_true = 2.0\n",
    "\n",
    "with levy_stable_jax._utils.set_stable(\"N0\"):\n",
    "    xs = sp_levy_stable.rvs(alpha=alpha_true, \n",
    "                            beta=beta_true,\n",
    "                            loc=loc_true,\n",
    "                            scale=scale_true,\n",
    "                            size=300)"
   ]
  },
  {
   "cell_type": "code",
   "execution_count": 5,
   "id": "d76782f9-b819-4662-8b0c-31c61dba65f7",
   "metadata": {},
   "outputs": [
    {
     "name": "stdout",
     "output_type": "stream",
     "text": [
      "CPU times: user 1min 39s, sys: 93.9 ms, total: 1min 39s\n",
      "Wall time: 1min 39s\n"
     ]
    },
    {
     "data": {
      "text/plain": [
       "(1.5911700327780611, 0.7318202521854729, 2.8957262466777074, 1.87708580564736)"
      ]
     },
     "execution_count": 5,
     "metadata": {},
     "output_type": "execute_result"
    }
   ],
   "source": [
    "%%time\n",
    "# Disabled for the time being, it is 100x slower than the Jax-based method\n",
    "# with levy_stable_jax._utils.set_stable(\"N0\"):\n",
    "#     z = sp_levy_stable.fit(xs)\n",
    "# z"
   ]
  },
  {
   "cell_type": "code",
   "execution_count": 6,
   "id": "0eabe8b0-2b11-434e-a812-8e945868eac3",
   "metadata": {},
   "outputs": [
    {
     "name": "stderr",
     "output_type": "stream",
     "text": [
      " 2024-04-26 15:59:38,658 - INFO - Unable to initialize backend 'cuda': \n",
      " 2024-04-26 15:59:38,658 - INFO - Unable to initialize backend 'rocm': module 'jaxlib.xla_extension' has no attribute 'GpuAllocatorConfig'\n",
      " 2024-04-26 15:59:38,659 - INFO - Unable to initialize backend 'tpu': INTERNAL: Failed to open libtpu.so: libtpu.so: cannot open shared object file: No such file or directory\n"
     ]
    },
    {
     "name": "stdout",
     "output_type": "stream",
     "text": [
      "CPU times: user 903 ms, sys: 120 ms, total: 1.02 s\n",
      "Wall time: 1.01 s\n"
     ]
    },
    {
     "data": {
      "text/plain": [
       "Array([1.6302127 , 0.69984704, 2.9375236 , 1.8883384 ], dtype=float32)"
      ]
     },
     "execution_count": 6,
     "metadata": {},
     "output_type": "execute_result"
    }
   ],
   "source": [
    "%%time\n",
    "z1 = levy_stable_jax.estimation.fit_ll(xs, param=\"N0\")\n",
    "z1"
   ]
  }
 ],
 "metadata": {
  "kernelspec": {
   "display_name": "Python 3 (ipykernel)",
   "language": "python",
   "name": "python3"
  },
  "language_info": {
   "codemirror_mode": {
    "name": "ipython",
    "version": 3
   },
   "file_extension": ".py",
   "mimetype": "text/x-python",
   "name": "python",
   "nbconvert_exporter": "python",
   "pygments_lexer": "ipython3",
   "version": "3.11.9"
  }
 },
 "nbformat": 4,
 "nbformat_minor": 5
}
